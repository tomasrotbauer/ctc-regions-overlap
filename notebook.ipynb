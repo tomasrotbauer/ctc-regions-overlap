{
 "cells": [
  {
   "cell_type": "code",
   "execution_count": 11,
   "id": "aadc6022-959f-477e-adff-a4d20074d2d0",
   "metadata": {},
   "outputs": [
    {
     "data": {
      "text/plain": [
       "import java.io.File\n",
       "import org.apache.spark.sql.types.{StructField, StructType, StringType, IntegerType}\n",
       "import org.apache.spark.sql.DataFrame\n",
       "dataDir: String = CNASeg\n",
       "ctcFile: String = CTCgains_kanwar2015.csv\n",
       "ctcSchema: org.apache.spark.sql.types.StructType = StructType(StructField(ctcChr,IntegerType,false),StructField(ctcStart,IntegerType,false),StructField(ctcEnd,IntegerType,false),StructField(sizeBp,StringType,false),StructField(sizeKbp,StringType,false))\n",
       "ctcDf: org.apache.spark.sql.DataFrame = [ctcChr: int, ctcStart: int ... 3 more fields]\n"
      ]
     },
     "execution_count": 11,
     "metadata": {},
     "output_type": "execute_result"
    }
   ],
   "source": [
    "import java.io.File\n",
    "import org.apache.spark.sql.types.{StructField, StructType, StringType, IntegerType}\n",
    "import org.apache.spark.sql.DataFrame\n",
    "\n",
    "val dataDir = \"CNASeg\"\n",
    "val ctcFile = \"CTCgains_kanwar2015.csv\"\n",
    "val ctcSchema = new StructType(Array(\n",
    "                    new StructField(\"ctcChr\", IntegerType, false),\n",
    "                    new StructField(\"ctcStart\", IntegerType, false),\n",
    "                    new StructField(\"ctcEnd\", IntegerType, false),\n",
    "                    new StructField(\"sizeBp\", StringType, false),\n",
    "                    new StructField(\"sizeKbp\", StringType, false)))\n",
    "val ctcDf = spark.read.format(\"csv\").option(\"sep\",\",\").option(\"header\", true).schema(ctcSchema).load(ctcFile)"
   ]
  },
  {
   "cell_type": "code",
   "execution_count": 12,
   "id": "c446f464-2629-4f8d-af43-98ad4d6920fa",
   "metadata": {},
   "outputs": [
    {
     "data": {
      "text/plain": [
       "pattern: scala.util.matching.Regex = ([0-9]+)_fin\\.cna\\.seg\n",
       "files: Array[String] = Array(35_fin.cna.seg, 36_fin.cna.seg, 46_fin.cna.seg, 26_fin.cna.seg, 18_fin.cna.seg, 15_fin.cna.seg, 24_fin.cna.seg, 30_fin.cna.seg, 32_fin.cna.seg, 29_fin.cna.seg, 12_fin.cna.seg, 53_fin.cna.seg, 5_fin.cna.seg, 44_fin.cna.seg, 17_fin.cna.seg, 21_fin.cna.seg, 14_fin.cna.seg, 50_fin.cna.seg, 3_fin.cna.seg, 27_fin.cna.seg, 11_fin.cna.seg, 8_fin.cna.seg, 33_fin.cna.seg, 20_fin.cna.seg, 2_fin.cna.seg, 9_fin.cna.seg, 22_fin.cna.seg, 47_fin.cna.seg)\n",
       "dataFrames: Array[org.apache.spark.sql.DataFrame] = Array([chr: int, start: int ... 9 more fields], [chr: int, start: int ... 9 more fields], [chr: int, start: int ... 9 more fields], [chr: int, start: int ... 9 more fields], [chr: int, start: int ... 9 more fields...\n"
      ]
     },
     "execution_count": 12,
     "metadata": {},
     "output_type": "execute_result"
    }
   ],
   "source": [
    "val pattern = \"\"\"([0-9]+)_fin\\.cna\\.seg\"\"\".r\n",
    "val files: Array[String] = new File(dataDir).listFiles.map(f => f.getName())\n",
    "val dataFrames: Array[DataFrame] = new Array(28)\n",
    "var i: Int = 0\n",
    "for (f <- files) {\n",
    "    val pattern(num) = f\n",
    "    val segSchema = new StructType(Array(\n",
    "                    new StructField(\"chr\", IntegerType, false),\n",
    "                    new StructField(\"start\", IntegerType, false),\n",
    "                    new StructField(\"end\", IntegerType, false),\n",
    "                    new StructField(s\"${num}_fin.copy.number\", StringType, false),\n",
    "                    new StructField(s\"${num}_fin.event\", StringType, false),\n",
    "                    new StructField(s\"${num}_fin.logR\", StringType, false),\n",
    "                    new StructField(s\"${num}_fin.subclone.status\", StringType, false),\n",
    "                    new StructField(s\"${num}_fin.Corrected_Copy_Number\", StringType, false),\n",
    "                    new StructField(s\"${num}_fin.Corrected_Call\", StringType, false),\n",
    "                    new StructField(s\"${num}_fin.logR_Copy_Number\", StringType, false)))\n",
    "    val df = spark.read.format(\"csv\")\n",
    "            .option(\"sep\",\"\\t\")\n",
    "            .option(\"header\", true)\n",
    "            .schema(segSchema)\n",
    "            .load(s\"$dataDir/$f\")\n",
    "            .withColumn(\"sampleNumber\", lit(num))\n",
    "            .withColumnRenamed(s\"${num}_fin.copy.number\", \"copyNumber\")\n",
    "            .withColumnRenamed(s\"${num}_fin.event\", \"event\")\n",
    "            .withColumnRenamed(s\"${num}_fin.logR\", \"logR\")\n",
    "            .withColumnRenamed(s\"${num}_fin.subclone.status\", \"subcloneStatus\")\n",
    "            .withColumnRenamed(s\"${num}_fin.Corrected_Copy_Number\", \"CorrectedCopyNumber\")\n",
    "            .withColumnRenamed(s\"${num}_fin.Corrected_Call\", \"correctedCall\")\n",
    "            .withColumnRenamed(s\"${num}_fin.logR_Copy_Number\", \"logRCopyNumber\")\n",
    "            .filter(col(\"correctedCall\") === \"GAIN\" || col(\"correctedCall\") === \"AMP\" || col(\"correctedCall\") === \"HLAMP\")\n",
    "    dataFrames(i) = df\n",
    "    i+=1\n",
    "}"
   ]
  },
  {
   "cell_type": "code",
   "execution_count": 13,
   "id": "cb1d1047-a036-4d20-a915-6f965846dcc1",
   "metadata": {},
   "outputs": [
    {
     "data": {
      "text/plain": [
       "df: org.apache.spark.sql.DataFrame = [chr: int, start: int ... 9 more fields]\n",
       "res10: Long = 20250\n"
      ]
     },
     "execution_count": 13,
     "metadata": {},
     "output_type": "execute_result"
    }
   ],
   "source": [
    "var df: DataFrame = dataFrames(0)\n",
    "(1 to 27).foreach(i => df = df.union(dataFrames(i)))\n",
    "df.count"
   ]
  },
  {
   "cell_type": "code",
   "execution_count": 14,
   "id": "d2456f72-efda-41b3-bda2-651c504e5db8",
   "metadata": {},
   "outputs": [
    {
     "name": "stdout",
     "output_type": "stream",
     "text": [
      "root\n",
      " |-- chr: integer (nullable = true)\n",
      " |-- start: integer (nullable = true)\n",
      " |-- end: integer (nullable = true)\n",
      " |-- copyNumber: string (nullable = true)\n",
      " |-- event: string (nullable = true)\n",
      " |-- logR: string (nullable = true)\n",
      " |-- subcloneStatus: string (nullable = true)\n",
      " |-- CorrectedCopyNumber: string (nullable = true)\n",
      " |-- correctedCall: string (nullable = true)\n",
      " |-- logRCopyNumber: string (nullable = true)\n",
      " |-- sampleNumber: string (nullable = false)\n",
      "\n"
     ]
    }
   ],
   "source": [
    "df.printSchema"
   ]
  },
  {
   "cell_type": "code",
   "execution_count": 15,
   "id": "6dcee767-f0dd-4381-ac4f-7b37900b45a7",
   "metadata": {},
   "outputs": [
    {
     "name": "stdout",
     "output_type": "stream",
     "text": [
      "+------+---------+---------+-------+------------------+\n",
      "|ctcChr| ctcStart|   ctcEnd| sizeBp|           sizeKbp|\n",
      "+------+---------+---------+-------+------------------+\n",
      "|     1|  1828508|  3571573|1743065|1743.0650000000001|\n",
      "|     1| 16122977| 16173900|  50923|50.923000000000002|\n",
      "|     1|155247948|156217829| 969881|969.88099999999997|\n",
      "|     1|154963903|155224815| 260912|260.91199999999998|\n",
      "|     7| 73115776| 75603639|2487863|2487.8629999999998|\n",
      "|     7| 99728602|100805098|1076496|1076.4960000000001|\n",
      "|     7|  5277077|  5661667| 384590|384.58999999999997|\n",
      "|     7|  1172124|  1526248| 354124|354.12400000000002|\n",
      "|     8|144748397|145258668| 510271|510.27100000000002|\n",
      "|     8|145286332|145682932| 396600|396.60000000000002|\n",
      "|     9|130341832|132263422|1921590|1921.5899999999999|\n",
      "|     9|135952412|137342684|1390272|1390.2719999999999|\n",
      "|     9|134008327|134427749| 419422|419.42200000000003|\n",
      "|     9|133754159|134008327| 254168|254.16800000000001|\n",
      "|    11|   198510|  2330394|2131884|          2131.884|\n",
      "|    11| 66088827| 67455721|1366894|          1366.894|\n",
      "|    12|121601130|122376372| 775242|775.24199999999996|\n",
      "|    16| 28863700| 31373178|2509478|2509.4780000000001|\n",
      "|    16|    61588|  2269598|2208010|2208.0100000000002|\n",
      "|    16| 69119444| 70586226|1466782|1466.7819999999999|\n",
      "+------+---------+---------+-------+------------------+\n",
      "only showing top 20 rows\n",
      "\n"
     ]
    }
   ],
   "source": [
    "ctcDf.show"
   ]
  },
  {
   "cell_type": "code",
   "execution_count": 16,
   "id": "37e8af6c-15c1-4580-8d15-8ac94009aef1",
   "metadata": {},
   "outputs": [
    {
     "name": "stdout",
     "output_type": "stream",
     "text": [
      "+------+---------+---------+-------+-------------------+---+---------+---------+----------+-----+-------+--------------+-------------------+-------------+----------------+------------+\n",
      "|ctcChr| ctcStart|   ctcEnd| sizeBp|            sizeKbp|chr|    start|      end|copyNumber|event|   logR|subcloneStatus|CorrectedCopyNumber|correctedCall|  logRCopyNumber|sampleNumber|\n",
      "+------+---------+---------+-------+-------------------+---+---------+---------+----------+-----+-------+--------------+-------------------+-------------+----------------+------------+\n",
      "|     1|  1828508|  3571573|1743065| 1743.0650000000001|  1|  1000001|  2000000|         3| GAIN|     NA|             1|                  3|         GAIN|              NA|          35|\n",
      "|     1|  1828508|  3571573|1743065| 1743.0650000000001|  1|  3000001|  4000000|         3| GAIN| 0.2532|             1|                  3|         GAIN|  4.669246525207|          35|\n",
      "|     1|154963903|155224815| 260912| 260.91199999999998|  1|154000001|155000000|         4|  AMP| 0.2926|             0|                  4|          AMP|3.22208070251488|          35|\n",
      "|     1|154963903|155224815| 260912| 260.91199999999998|  1|155000001|156000000|         4|  AMP| 0.0585|             0|                  4|          AMP|2.29102616099102|          35|\n",
      "|     1|155247948|156217829| 969881| 969.88099999999997|  1|155000001|156000000|         4|  AMP| 0.0585|             0|                  4|          AMP|2.29102616099102|          35|\n",
      "|     1|155247948|156217829| 969881| 969.88099999999997|  1|156000001|157000000|         4|  AMP| 0.2438|             0|                  4|          AMP|3.01533889515467|          35|\n",
      "|     8|144748397|145258668| 510271| 510.27100000000002|  8|144000001|145000000|         3| GAIN|-0.0542|             0|                  3|         GAIN| 1.8938958018248|          35|\n",
      "|     1|154963903|155224815| 260912| 260.91199999999998|  1|154000001|155000000|         4|  AMP| 0.2599|             0|                  4|          AMP|3.12221178763222|          36|\n",
      "|     1|154963903|155224815| 260912| 260.91199999999998|  1|155000001|156000000|         4|  AMP| 0.0873|             0|                  4|          AMP| 2.4292679579325|          36|\n",
      "|     1|155247948|156217829| 969881| 969.88099999999997|  1|155000001|156000000|         4|  AMP| 0.0873|             0|                  4|          AMP| 2.4292679579325|          36|\n",
      "|     1|155247948|156217829| 969881| 969.88099999999997|  1|156000001|157000000|         4|  AMP| 0.2988|             0|                  4|          AMP|  3.290167564963|          36|\n",
      "|     8|144748397|145258668| 510271| 510.27100000000002|  8|144000001|145000000|         3| GAIN|-0.0679|             0|                  3|         GAIN|1.87315813897992|          36|\n",
      "|    17| 41247881| 41270183|  22302|             22.302| 17| 41000001| 42000000|         3| GAIN|-0.4811|             1|                  3|         GAIN|        0.015625|          46|\n",
      "|    17| 41270183| 41705015| 434832| 434.83199999999999| 17| 41000001| 42000000|         3| GAIN|-0.4811|             1|                  3|         GAIN|        0.015625|          46|\n",
      "|    17| 72782884| 74534518|1751634|           1751.634| 17| 72000001| 73000000|         3| GAIN|  0.017|             1|                  3|         GAIN|     1.822824863|          46|\n",
      "|    17| 72782884| 74534518|1751634|           1751.634| 17| 73000001| 74000000|         3| GAIN| 0.0993|             1|                  3|         GAIN|     2.941860844|          46|\n",
      "|    17| 72782884| 74534518|1751634|           1751.634| 17| 74000001| 75000000|         3| GAIN|  0.115|             1|                  3|         GAIN|     3.162680432|          46|\n",
      "|    19|  1540502|  1541476|    974|0.97399999999999998| 19|  1000001|  2000000|         3| GAIN|     NA|             1|                  3|         GAIN|              NA|          46|\n",
      "|    19|  1541476|  2145767| 604291| 604.29100000000005| 19|  1000001|  2000000|         3| GAIN|     NA|             1|                  3|         GAIN|              NA|          46|\n",
      "|    19|   329975|  1540502|1210527|           1210.527| 19|  1000001|  2000000|         3| GAIN|     NA|             1|                  3|         GAIN|              NA|          46|\n",
      "+------+---------+---------+-------+-------------------+---+---------+---------+----------+-----+-------+--------------+-------------------+-------------+----------------+------------+\n",
      "only showing top 20 rows\n",
      "\n"
     ]
    },
    {
     "data": {
      "text/plain": [
       "joinExpression: org.apache.spark.sql.Column = (ctcChr = chr)\n",
       "joinedDf: org.apache.spark.sql.Dataset[org.apache.spark.sql.Row] = [ctcChr: int, ctcStart: int ... 14 more fields]\n"
      ]
     },
     "execution_count": 16,
     "metadata": {},
     "output_type": "execute_result"
    }
   ],
   "source": [
    "val joinExpression = ctcDf.col(\"ctcChr\") === df.col(\"chr\")\n",
    "val joinedDf = ctcDf.join(df, joinExpression).filter(col(\"ctcStart\") <= col(\"end\")).filter(col(\"start\") <= col(\"ctcEnd\"))\n",
    "joinedDf.show"
   ]
  },
  {
   "cell_type": "code",
   "execution_count": 17,
   "id": "9407dc29-0357-43f5-b85c-ed77cb8281c6",
   "metadata": {},
   "outputs": [
    {
     "data": {
      "text/plain": [
       "res14: Long = 1278\n"
      ]
     },
     "execution_count": 17,
     "metadata": {},
     "output_type": "execute_result"
    }
   ],
   "source": [
    "joinedDf.count"
   ]
  },
  {
   "cell_type": "code",
   "execution_count": 19,
   "id": "6ee7cdea-c242-469e-911e-8879cfc846df",
   "metadata": {},
   "outputs": [],
   "source": [
    "joinedDf.coalesce(1).write.format(\"csv\").mode(\"overwrite\").option(\"header\", true).option(\"sep\", \",\").save(\"/home/tomas/Documents/Martin/CTCRegions/output\")"
   ]
  },
  {
   "cell_type": "code",
   "execution_count": null,
   "id": "51270ee9-3e46-4e58-9c52-7b5729cce4b5",
   "metadata": {},
   "outputs": [],
   "source": []
  }
 ],
 "metadata": {
  "kernelspec": {
   "display_name": "spylon-kernel",
   "language": "scala",
   "name": "spylon-kernel"
  },
  "language_info": {
   "codemirror_mode": "text/x-scala",
   "file_extension": ".scala",
   "help_links": [
    {
     "text": "MetaKernel Magics",
     "url": "https://metakernel.readthedocs.io/en/latest/source/README.html"
    }
   ],
   "mimetype": "text/x-scala",
   "name": "scala",
   "pygments_lexer": "scala",
   "version": "0.4.1"
  }
 },
 "nbformat": 4,
 "nbformat_minor": 5
}
